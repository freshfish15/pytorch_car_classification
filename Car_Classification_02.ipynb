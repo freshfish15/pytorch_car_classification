{
 "cells": [
  {
   "cell_type": "code",
   "id": "initial_id",
   "metadata": {
    "collapsed": true,
    "jupyter": {
     "is_executing": true
    },
    "ExecuteTime": {
     "end_time": "2024-08-12T07:09:23.024992500Z",
     "start_time": "2024-08-12T07:09:23.009991800Z"
    }
   },
   "source": [
    "import torch\n",
    "import torch.nn as nn\n",
    "import torch.optim as optim\n",
    "from torch.utils.data import DataLoader\n",
    "from torchvision import datasets, transforms, models\n",
    "import os"
   ],
   "outputs": [],
   "execution_count": 190
  },
  {
   "metadata": {
    "jupyter": {
     "is_executing": true
    },
    "ExecuteTime": {
     "end_time": "2024-08-12T07:09:23.547773600Z",
     "start_time": "2024-08-12T07:09:23.539774500Z"
    }
   },
   "cell_type": "code",
   "source": [
    "# Define data transformations for data augmentation and normalization\n",
    "data_transforms = {\n",
    "    'train': transforms.Compose([\n",
    "        transforms.RandomResizedCrop(224),\n",
    "        transforms.RandomVerticalFlip(),\n",
    "        transforms.RandomAffine(degrees=15, translate=(0.1, 0.1), scale=(0.9, 1.1)),\n",
    "        # transforms.RandomHorizontalFlip(),\n",
    "        transforms.RandomRotation(10),\n",
    "        transforms.RandomPerspective(distortion_scale=0.5, p=0.5),\n",
    "        transforms.ToTensor(),\n",
    "        transforms.Normalize([0.485, 0.456, 0.406], [0.229, 0.224, 0.225])\n",
    "    ]),\n",
    "    'val': transforms.Compose([\n",
    "        transforms.Resize(256),\n",
    "        transforms.CenterCrop(224),\n",
    "        transforms.ToTensor(),\n",
    "        transforms.Normalize([0.485, 0.456, 0.406], [0.229, 0.224, 0.225])\n",
    "    ]),\n",
    "}"
   ],
   "id": "eb18ebee3f899014",
   "outputs": [],
   "execution_count": 191
  },
  {
   "metadata": {
    "jupyter": {
     "is_executing": true
    },
    "ExecuteTime": {
     "end_time": "2024-08-12T07:09:23.944711700Z",
     "start_time": "2024-08-12T07:09:23.927711100Z"
    }
   },
   "cell_type": "code",
   "source": [
    "data_dir = 'data/Cars'\n",
    "image_datasets = {x: datasets.ImageFolder(root=f\"{data_dir}/{x}\", transform=data_transforms[x])\n",
    "                  for x in ['train', 'val']}\n",
    "\n",
    "dataloaders = {x: DataLoader(image_datasets[x], batch_size=4, shuffle=True, num_workers=4)\n",
    "               for x in ['train', 'val']}\n",
    "\n",
    "dataset_sizes = {x: len(image_datasets[x]) for x in ['train', 'val']}\n",
    "class_names = image_datasets['train'].classes\n",
    "print(class_names)\n",
    "# Print some information about the datasets\n",
    "print(f\"Number of samples: {dataset_sizes}\")\n",
    "print(f\"Classes: {class_names}\")"
   ],
   "id": "70c0f368a18bcba8",
   "outputs": [
    {
     "name": "stdout",
     "output_type": "stream",
     "text": [
      "['black', 'white']\n",
      "Number of samples: {'train': 44, 'val': 11}\n",
      "Classes: ['black', 'white']\n"
     ]
    }
   ],
   "execution_count": 192
  },
  {
   "metadata": {
    "jupyter": {
     "is_executing": true
    },
    "ExecuteTime": {
     "end_time": "2024-08-12T07:10:15.024088Z",
     "start_time": "2024-08-12T07:10:14.921421600Z"
    }
   },
   "cell_type": "code",
   "source": [
    "model = models.resnet18(pretrained=True)\n",
    "num_ftrs = model.fc.in_features\n",
    "# model.fc = nn.Linear(num_ftrs, len(class_names))\n",
    "model.fc = nn.Linear(num_ftrs, 2)"
   ],
   "id": "8d3e0ee49f9ab7c4",
   "outputs": [],
   "execution_count": 194
  },
  {
   "cell_type": "code",
   "execution_count": 195,
   "outputs": [],
   "source": [
    "# Load the pre-trained model with freezing\n",
    "model = models.resnet18(pretrained=True)\n",
    "\n",
    "# Freeze all the parameters in the network\n",
    "for param in model.parameters():\n",
    "    param.requires_grad = False\n",
    "\n",
    "# Replace the last fully connected layer\n",
    "num_ftrs = model.fc.in_features\n",
    "model.fc = nn.Linear(num_ftrs, 2)\n",
    "\n",
    "# Ensure the parameters of the new layer are set to require gradients\n",
    "for param in model.fc.parameters():\n",
    "    param.requires_grad = True"
   ],
   "metadata": {
    "collapsed": false,
    "ExecuteTime": {
     "end_time": "2024-08-12T07:10:17.115838400Z",
     "start_time": "2024-08-12T07:10:17.008516Z"
    }
   },
   "id": "86eb201d772b145b"
  },
  {
   "metadata": {
    "jupyter": {
     "is_executing": true
    },
    "ExecuteTime": {
     "end_time": "2024-08-12T07:10:18.182034900Z",
     "start_time": "2024-08-12T07:10:18.130526700Z"
    }
   },
   "cell_type": "code",
   "source": [
    "criterion = nn.CrossEntropyLoss()\n",
    "optimizer = optim.SGD(model.parameters(), lr=0.01, weight_decay=1e-3, momentum=0.9)\n",
    "\n",
    "# Move the model to the GPU if available\n",
    "device = torch.device(\"cuda:0\" if torch.cuda.is_available() else \"cpu\")\n",
    "model = model.to(device)"
   ],
   "id": "5ba2be9105495178",
   "outputs": [],
   "execution_count": 196
  },
  {
   "metadata": {
    "jupyter": {
     "is_executing": true
    },
    "ExecuteTime": {
     "end_time": "2024-08-12T07:11:23.534689100Z",
     "start_time": "2024-08-12T07:10:18.983705200Z"
    }
   },
   "cell_type": "code",
   "source": [
    "import copy\n",
    "\n",
    "\n",
    "def train_model(model, criterion, optimizer, num_epochs=15, patience=5):\n",
    "    model = model.to(device)\n",
    "    \n",
    "    best_model_wts = copy.deepcopy(model.state_dict())\n",
    "    best_acc = 0.0\n",
    "    best_loss = float('inf')\n",
    "    no_improve_epochs = 0\n",
    "    \n",
    "    for epoch in range(num_epochs):\n",
    "        print(f'Epoch {epoch}/{num_epochs - 1}')\n",
    "        print('-' * 10)\n",
    "\n",
    "        # Each epoch has a training and validation phase\n",
    "        for phase in ['train', 'val']:\n",
    "            if phase == 'train':\n",
    "                model.train()\n",
    "            else:\n",
    "                model.eval()\n",
    "\n",
    "            running_loss = 0.0\n",
    "            running_corrects = 0\n",
    "\n",
    "            # Iterate over data.\n",
    "            for inputs, labels in dataloaders[phase]:\n",
    "                inputs = inputs.to(device)\n",
    "                labels = labels.to(device)\n",
    "\n",
    "                optimizer.zero_grad()\n",
    "\n",
    "                with torch.set_grad_enabled(phase == 'train'):\n",
    "                    outputs = model(inputs)\n",
    "                    _, preds = torch.max(outputs, 1)\n",
    "                    loss = criterion(outputs, labels)\n",
    "\n",
    "                    if phase == 'train':\n",
    "                        loss.backward()\n",
    "                        optimizer.step()\n",
    "\n",
    "                running_loss += loss.item() * inputs.size(0)\n",
    "                running_corrects += torch.sum(preds == labels.data)\n",
    "\n",
    "            epoch_loss = running_loss / dataset_sizes[phase]\n",
    "            epoch_acc = running_corrects.double() / dataset_sizes[phase]\n",
    "\n",
    "            print(f'{phase} Loss: {epoch_loss:.4f} Acc: {epoch_acc:.4f}')\n",
    "\n",
    "            # Deep copy the model if best performance\n",
    "            if phase == 'val' and epoch_loss < best_loss:\n",
    "                best_loss = epoch_loss\n",
    "                best_model_wts = copy.deepcopy(model.state_dict())\n",
    "                no_improve_epochs = 0\n",
    "            elif phase == 'val':\n",
    "                no_improve_epochs += 1\n",
    "\n",
    "        # Early stopping\n",
    "        if no_improve_epochs >= patience:\n",
    "            print(f'Early stopping triggered after epoch {epoch}')\n",
    "            break\n",
    "\n",
    "    print('Best val Loss: {:4f}'.format(best_loss))\n",
    "\n",
    "    # load best model weights\n",
    "    model.load_state_dict(best_model_wts)\n",
    "    return model\n",
    "\n",
    "\n",
    "# Usage\n",
    "model = train_model(model, criterion, optimizer, num_epochs=30, patience=5)"
   ],
   "id": "50648dcdc38a0e6f",
   "outputs": [
    {
     "name": "stdout",
     "output_type": "stream",
     "text": [
      "Epoch 0/29\n",
      "----------\n",
      "train Loss: 1.4746 Acc: 0.4545\n",
      "val Loss: 0.7353 Acc: 0.6364\n",
      "Epoch 1/29\n",
      "----------\n",
      "train Loss: 1.8101 Acc: 0.5682\n",
      "val Loss: 0.9016 Acc: 0.7273\n",
      "Epoch 2/29\n",
      "----------\n",
      "train Loss: 2.3028 Acc: 0.5682\n",
      "val Loss: 1.2667 Acc: 0.5455\n",
      "Epoch 3/29\n",
      "----------\n",
      "train Loss: 0.3909 Acc: 0.8864\n",
      "val Loss: 2.5708 Acc: 0.5455\n",
      "Epoch 4/29\n",
      "----------\n",
      "train Loss: 0.9250 Acc: 0.7500\n",
      "val Loss: 1.3636 Acc: 0.6364\n",
      "Epoch 5/29\n",
      "----------\n",
      "train Loss: 1.6386 Acc: 0.7045\n",
      "val Loss: 0.1649 Acc: 0.9091\n",
      "Epoch 6/29\n",
      "----------\n",
      "train Loss: 2.5070 Acc: 0.7500\n",
      "val Loss: 1.5644 Acc: 0.9091\n",
      "Epoch 7/29\n",
      "----------\n",
      "train Loss: 2.0110 Acc: 0.7045\n",
      "val Loss: 3.7650 Acc: 0.7273\n",
      "Epoch 8/29\n",
      "----------\n",
      "train Loss: 1.1720 Acc: 0.8636\n",
      "val Loss: 1.7726 Acc: 0.9091\n",
      "Epoch 9/29\n",
      "----------\n",
      "train Loss: 2.8521 Acc: 0.7045\n",
      "val Loss: 5.2482 Acc: 0.7273\n",
      "Epoch 10/29\n",
      "----------\n",
      "train Loss: 5.1688 Acc: 0.6818\n",
      "val Loss: 2.2730 Acc: 0.6364\n",
      "Early stopping triggered after epoch 10\n",
      "Best val Loss: 0.164917\n"
     ]
    }
   ],
   "execution_count": 197
  },
  {
   "cell_type": "code",
   "execution_count": null,
   "outputs": [],
   "source": [
    "device = torch.device(\"cuda:0\" if torch.cuda.is_available() else \"cpu\")\n",
    "model = train_model(model, criterion, optimizer, num_epochs=15)"
   ],
   "metadata": {
    "collapsed": false
   },
   "id": "699de048470b5f0f"
  },
  {
   "metadata": {
    "jupyter": {
     "is_executing": true
    },
    "ExecuteTime": {
     "end_time": "2024-08-12T07:12:24.402573300Z",
     "start_time": "2024-08-12T07:12:24.343001400Z"
    }
   },
   "cell_type": "code",
   "source": [
    "torch.save(model.state_dict(), 'car_classifier07.pth')"
   ],
   "id": "b47a17dc8f7eac07",
   "outputs": [],
   "execution_count": 198
  },
  {
   "metadata": {
    "jupyter": {
     "is_executing": true
    },
    "ExecuteTime": {
     "end_time": "2024-08-12T07:12:25.630244400Z",
     "start_time": "2024-08-12T07:12:25.443705300Z"
    }
   },
   "cell_type": "code",
   "source": [
    "#test the model with unseen images\n",
    "model = models.resnet18(pretrained=False)\n",
    "num_ftrs = model.fc.in_features\n",
    "model.fc = nn.Linear(num_ftrs, len(class_names))\n",
    "model.load_state_dict(torch.load('car_classifier05.pth', weights_only=False))\n",
    "model.eval()\n",
    "model = model.to(device)"
   ],
   "id": "7899b9ee0640ca90",
   "outputs": [
    {
     "name": "stderr",
     "output_type": "stream",
     "text": [
      "C:\\Users\\user\\.conda\\envs\\pytorch_01\\lib\\site-packages\\torchvision\\models\\_utils.py:223: UserWarning: Arguments other than a weight enum or `None` for 'weights' are deprecated since 0.13 and may be removed in the future. The current behavior is equivalent to passing `weights=None`.\n",
      "  warnings.warn(msg)\n"
     ]
    }
   ],
   "execution_count": 199
  },
  {
   "metadata": {
    "jupyter": {
     "is_executing": true
    },
    "ExecuteTime": {
     "end_time": "2024-08-12T07:12:26.172348400Z",
     "start_time": "2024-08-12T07:12:26.142842200Z"
    }
   },
   "cell_type": "code",
   "source": [
    "transform = transforms.Compose([\n",
    "    transforms.Resize((224, 224)),\n",
    "    transforms.ToTensor(),\n",
    "    transforms.Normalize([0.485, 0.456, 0.406], [0.229, 0.224, 0.225])\n",
    "])"
   ],
   "id": "b1211093cfd32c86",
   "outputs": [],
   "execution_count": 200
  },
  {
   "metadata": {
    "jupyter": {
     "is_executing": true
    },
    "ExecuteTime": {
     "end_time": "2024-08-12T07:12:26.693325100Z",
     "start_time": "2024-08-12T07:12:26.672319600Z"
    }
   },
   "cell_type": "code",
   "source": [
    "from PIL import Image\n",
    "\n",
    "def process_image(image_path):\n",
    "    image = Image.open(image_path)\n",
    "    image = transform(image).unsqueeze(0)  # Add batch dimension\n",
    "    return image.to(device)"
   ],
   "id": "e5b6d003ff574c90",
   "outputs": [],
   "execution_count": 201
  },
  {
   "metadata": {
    "jupyter": {
     "is_executing": true
    },
    "ExecuteTime": {
     "end_time": "2024-08-12T07:12:27.168960200Z",
     "start_time": "2024-08-12T07:12:27.155955700Z"
    }
   },
   "cell_type": "code",
   "source": [
    "def predict(image_path):\n",
    "    image = process_image(image_path)\n",
    "    with torch.no_grad():\n",
    "        outputs = model(image)\n",
    "        _, predicted = torch.max(outputs, 1)\n",
    "    return class_names[predicted.item()]"
   ],
   "id": "a634b7f705505c14",
   "outputs": [],
   "execution_count": 202
  },
  {
   "cell_type": "code",
   "execution_count": 203,
   "outputs": [],
   "source": [
    "from sklearn.metrics import confusion_matrix, classification_report\n",
    "import matplotlib.pyplot as plt\n",
    "import seaborn as sns\n",
    "\n",
    "def calculate_metrics():\n",
    "    true_labels = []\n",
    "    predicted_labels = []\n",
    "    \n",
    "    for label in ['black', 'white']:\n",
    "        folder_path = os.path.join('data/Cars/testset/', label)\n",
    "        for filename in os.listdir(folder_path):\n",
    "            if filename.lower().endswith(('.jpg', '.jpeg')):\n",
    "                file_path = os.path.join(folder_path, filename)\n",
    "                prediction = predict(file_path)\n",
    "                \n",
    "                true_labels.append(label)\n",
    "                predicted_labels.append(prediction)\n",
    "                \n",
    "                print(f'File: {file_path}, True: {label}, Predicted: {prediction}')\n",
    "    \n",
    "    # Calculate confusion matrix\n",
    "    cm = confusion_matrix(true_labels, predicted_labels, labels=['black', 'white'])\n",
    "    \n",
    "    # Extract TP, FP, TN, FN\n",
    "    tn, fp, fn, tp = cm.ravel()\n",
    "    \n",
    "    # Calculate metrics\n",
    "    accuracy = (tp + tn) / (tp + tn + fp + fn)\n",
    "    precision = tp / (tp + fp) if (tp + fp) > 0 else 0\n",
    "    recall = tp / (tp + fn) if (tp + fn) > 0 else 0\n",
    "    f1_score = 2 * (precision * recall) / (precision + recall) if (precision + recall) > 0 else 0\n",
    "    \n",
    "    print(\"\\nConfusion Matrix:\")\n",
    "    print(cm)\n",
    "    print(f\"\\nTrue Positives (TP): {tp}\")\n",
    "    print(f\"False Positives (FP): {fp}\")\n",
    "    print(f\"True Negatives (TN): {tn}\")\n",
    "    print(f\"False Negatives (FN): {fn}\")\n",
    "    print(f\"\\nAccuracy: {accuracy:.4f}\")\n",
    "    print(f\"Precision: {precision:.4f}\")\n",
    "    print(f\"Recall: {recall:.4f}\")\n",
    "    print(f\"F1 Score: {f1_score:.4f}\")\n",
    "    \n",
    "    # Detailed classification report\n",
    "    print(\"\\nClassification Report:\")\n",
    "    print(classification_report(true_labels, predicted_labels))\n",
    "    \n",
    "    \n",
    "     # Visualizations\n",
    "    plt.figure(figsize=(12, 5))\n",
    "    \n",
    "    # Confusion Matrix Heatmap\n",
    "    plt.subplot(1, 2, 1)\n",
    "    sns.heatmap(cm, annot=True, fmt='d', cmap='Blues')\n",
    "    plt.title('Confusion Matrix')\n",
    "    plt.ylabel('True label')\n",
    "    plt.xlabel('Predicted label')\n",
    "    \n",
    "    # Metrics Bar Plot\n",
    "    plt.subplot(1, 2, 2)\n",
    "    metrics = [accuracy, precision, recall, f1_score]\n",
    "    metric_names = ['Accuracy', 'Precision', 'Recall', 'F1 Score']\n",
    "    sns.barplot(x=metric_names, y=metrics)\n",
    "    plt.title('Model Performance Metrics')\n",
    "    plt.ylim(0, 1)\n",
    "    for i, v in enumerate(metrics):\n",
    "        plt.text(i, v, f'{v:.2f}', ha='center', va='bottom')\n",
    "    \n",
    "    plt.tight_layout()\n",
    "    plt.show()\n",
    "    \n",
    "# Run the evaluation"
   ],
   "metadata": {
    "collapsed": false,
    "ExecuteTime": {
     "end_time": "2024-08-12T07:12:27.591679200Z",
     "start_time": "2024-08-12T07:12:27.544621600Z"
    }
   },
   "id": "199aac87c0aae92d"
  },
  {
   "cell_type": "code",
   "execution_count": 204,
   "outputs": [
    {
     "name": "stdout",
     "output_type": "stream",
     "text": [
      "File: data/Cars/testset/black\\0000006_01111_d_00000035.jpg, True: black, Predicted: black\n",
      "File: data/Cars/testset/black\\0000006_01111_d_00000037.jpg, True: black, Predicted: black\n",
      "File: data/Cars/testset/black\\0000006_02138_d_00000063.jpg, True: black, Predicted: black\n",
      "File: data/Cars/testset/black\\0000353_02500_d_000019327.jpg, True: black, Predicted: black\n",
      "File: data/Cars/testset/black\\bc01.jpg, True: black, Predicted: black\n",
      "File: data/Cars/testset/black\\bc02.jpg, True: black, Predicted: black\n",
      "File: data/Cars/testset/black\\bc03.jpg, True: black, Predicted: white\n",
      "File: data/Cars/testset/black\\bc04.jpg, True: black, Predicted: black\n",
      "File: data/Cars/testset/black\\bc05.jpg, True: black, Predicted: black\n",
      "File: data/Cars/testset/black\\bc06.jpg, True: black, Predicted: black\n",
      "File: data/Cars/testset/black\\bc07.jpg, True: black, Predicted: black\n",
      "File: data/Cars/testset/black\\bc08.jpg, True: black, Predicted: black\n",
      "File: data/Cars/testset/black\\bc09.jpg, True: black, Predicted: black\n",
      "File: data/Cars/testset/black\\bc10.jpg, True: black, Predicted: black\n",
      "File: data/Cars/testset/black\\bc11.jpg, True: black, Predicted: black\n",
      "File: data/Cars/testset/black\\bc12.jpg, True: black, Predicted: black\n",
      "File: data/Cars/testset/black\\bc13.jpg, True: black, Predicted: black\n",
      "File: data/Cars/testset/black\\bc14.jpg, True: black, Predicted: black\n",
      "File: data/Cars/testset/black\\bc15.jpg, True: black, Predicted: black\n",
      "File: data/Cars/testset/black\\bc16.jpg, True: black, Predicted: black\n",
      "File: data/Cars/testset/black\\bc17.jpg, True: black, Predicted: white\n",
      "File: data/Cars/testset/black\\bc18.jpg, True: black, Predicted: black\n",
      "File: data/Cars/testset/black\\bc19.jpg, True: black, Predicted: black\n",
      "File: data/Cars/testset/black\\bc20.jpg, True: black, Predicted: white\n",
      "File: data/Cars/testset/black\\bc21.jpg, True: black, Predicted: black\n",
      "File: data/Cars/testset/black\\bc22.jpg, True: black, Predicted: black\n",
      "File: data/Cars/testset/black\\bc23.jpg, True: black, Predicted: black\n",
      "File: data/Cars/testset/black\\bc24.jpg, True: black, Predicted: black\n",
      "File: data/Cars/testset/black\\bc25.jpg, True: black, Predicted: black\n",
      "File: data/Cars/testset/black\\bc26.jpg, True: black, Predicted: black\n",
      "File: data/Cars/testset/black\\bc27.jpg, True: black, Predicted: black\n",
      "File: data/Cars/testset/black\\bc29.jpg, True: black, Predicted: black\n",
      "File: data/Cars/testset/black\\bc30.jpg, True: black, Predicted: black\n",
      "File: data/Cars/testset/black\\wc08.jpg, True: black, Predicted: white\n",
      "File: data/Cars/testset/black\\wc28.jpg, True: black, Predicted: black\n",
      "File: data/Cars/testset/white\\0000006_01659_d_00000046.jpg, True: white, Predicted: white\n",
      "File: data/Cars/testset/white\\0000078_00490_d_00000027.jpg, True: white, Predicted: white\n",
      "File: data/Cars/testset/white\\0000105_01556_d_000006917.jpg, True: white, Predicted: white\n",
      "File: data/Cars/testset/white\\0000105_02201_d_000007110.jpg, True: white, Predicted: white\n",
      "File: data/Cars/testset/white\\wc01.jpg, True: white, Predicted: white\n",
      "File: data/Cars/testset/white\\wc02.jpg, True: white, Predicted: black\n",
      "File: data/Cars/testset/white\\wc03.jpg, True: white, Predicted: white\n",
      "File: data/Cars/testset/white\\wc04.jpg, True: white, Predicted: white\n",
      "File: data/Cars/testset/white\\wc05.jpg, True: white, Predicted: white\n",
      "File: data/Cars/testset/white\\wc06.jpeg, True: white, Predicted: black\n",
      "File: data/Cars/testset/white\\wc07.jpg, True: white, Predicted: white\n",
      "File: data/Cars/testset/white\\wc08.jpg, True: white, Predicted: white\n",
      "File: data/Cars/testset/white\\wc09.jpeg, True: white, Predicted: white\n",
      "File: data/Cars/testset/white\\wc10.jpg, True: white, Predicted: white\n",
      "File: data/Cars/testset/white\\wc11.jpg, True: white, Predicted: white\n",
      "File: data/Cars/testset/white\\wc12.jpeg, True: white, Predicted: white\n",
      "File: data/Cars/testset/white\\wc13.jpg, True: white, Predicted: black\n",
      "File: data/Cars/testset/white\\wc14.jpeg, True: white, Predicted: white\n",
      "File: data/Cars/testset/white\\wc15.jpeg, True: white, Predicted: black\n",
      "File: data/Cars/testset/white\\wc16.jpg, True: white, Predicted: white\n",
      "File: data/Cars/testset/white\\wc17.jpg, True: white, Predicted: white\n",
      "File: data/Cars/testset/white\\wc18.jpg, True: white, Predicted: white\n",
      "File: data/Cars/testset/white\\wc19.jpg, True: white, Predicted: white\n",
      "File: data/Cars/testset/white\\wc20.jpg, True: white, Predicted: black\n",
      "File: data/Cars/testset/white\\wc21.jpg, True: white, Predicted: white\n",
      "File: data/Cars/testset/white\\wc22.jpg, True: white, Predicted: white\n",
      "File: data/Cars/testset/white\\wc23.jpg, True: white, Predicted: white\n",
      "File: data/Cars/testset/white\\wc24.jpg, True: white, Predicted: white\n",
      "File: data/Cars/testset/white\\wc25.jpg, True: white, Predicted: white\n",
      "File: data/Cars/testset/white\\wc26.jpg, True: white, Predicted: white\n",
      "File: data/Cars/testset/white\\wc27.jpg, True: white, Predicted: white\n",
      "File: data/Cars/testset/white\\wc28.jpg, True: white, Predicted: white\n",
      "File: data/Cars/testset/white\\wc29.jpg, True: white, Predicted: white\n",
      "File: data/Cars/testset/white\\wc30.jpg, True: white, Predicted: white\n",
      "\n",
      "Confusion Matrix:\n",
      "[[31  4]\n",
      " [ 5 29]]\n",
      "\n",
      "True Positives (TP): 29\n",
      "False Positives (FP): 4\n",
      "True Negatives (TN): 31\n",
      "False Negatives (FN): 5\n",
      "\n",
      "Accuracy: 0.8696\n",
      "Precision: 0.8788\n",
      "Recall: 0.8529\n",
      "F1 Score: 0.8657\n",
      "\n",
      "Classification Report:\n",
      "              precision    recall  f1-score   support\n",
      "\n",
      "       black       0.86      0.89      0.87        35\n",
      "       white       0.88      0.85      0.87        34\n",
      "\n",
      "    accuracy                           0.87        69\n",
      "   macro avg       0.87      0.87      0.87        69\n",
      "weighted avg       0.87      0.87      0.87        69\n"
     ]
    },
    {
     "data": {
      "text/plain": "<Figure size 1200x500 with 3 Axes>",
      "image/png": "[encoded data removed]"
     },
     "metadata": {},
     "output_type": "display_data"
    }
   ],
   "source": [
    "# Run the evaluation\n",
    "calculate_metrics()"
   ],
   "metadata": {
    "collapsed": false,
    "ExecuteTime": {
     "end_time": "2024-08-12T07:12:31.074566800Z",
     "start_time": "2024-08-12T07:12:28.760880700Z"
    }
   },
   "id": "fd119558af6d17d2"
  },
  {
   "metadata": {
    "jupyter": {
     "is_executing": true
    },
    "ExecuteTime": {
     "end_time": "2024-08-12T03:36:41.464648100Z",
     "start_time": "2024-08-12T03:36:39.525827400Z"
    }
   },
   "cell_type": "code",
   "source": [
    "def trueOrFalse(output, label):\n",
    "    if output == label:\n",
    "        return 1\n",
    "    else:\n",
    "        return 0\n",
    "    \n",
    "    \n",
    "def calculateAccuracy(label):\n",
    "    correct = 0\n",
    "    folder_path = os.path.join('data/Cars/testset/',label) + '/'\n",
    "    for filename in os.listdir(folder_path):\n",
    "        if  filename.endswith('.jpg') or filename.endswith('.JPG') or filename.endswith('jpeg') or filename.endswith('JPEG'):\n",
    "            file_path = os.path.join(folder_path, filename)\n",
    "            prediction = predict(file_path)\n",
    "            print(file_path)\n",
    "            print(f'The predicted class is: {prediction}')\n",
    "            correct = correct + (trueOrFalse(label, prediction))\n",
    "            print(f'Accumulated correct:' , correct)\n",
    "    \n",
    "    accuracy = correct/len(os.listdir(folder_path))\n",
    "    print(f'Accuracy of {label} class:', accuracy)\n",
    "    \n",
    "calculateAccuracy('black')\n",
    "calculateAccuracy('white')"
   ],
   "id": "dd6f0628d71f2374",
   "outputs": [
    {
     "name": "stdout",
     "output_type": "stream",
     "text": [
      "data/Cars/testset/black/bc01.jpg\n",
      "The predicted class is: black\n",
      "Accumulated correct: 1\n",
      "data/Cars/testset/black/bc02.jpg\n",
      "The predicted class is: black\n",
      "Accumulated correct: 2\n",
      "data/Cars/testset/black/bc03.jpg\n",
      "The predicted class is: black\n",
      "Accumulated correct: 3\n",
      "data/Cars/testset/black/bc04.jpg\n",
      "The predicted class is: black\n",
      "Accumulated correct: 4\n",
      "data/Cars/testset/black/bc05.jpg\n",
      "The predicted class is: black\n",
      "Accumulated correct: 5\n",
      "data/Cars/testset/black/bc06.jpg\n",
      "The predicted class is: black\n",
      "Accumulated correct: 6\n",
      "data/Cars/testset/black/bc07.jpg\n",
      "The predicted class is: black\n",
      "Accumulated correct: 7\n",
      "data/Cars/testset/black/bc08.jpg\n",
      "The predicted class is: black\n",
      "Accumulated correct: 8\n",
      "data/Cars/testset/black/bc09.jpg\n",
      "The predicted class is: black\n",
      "Accumulated correct: 9\n",
      "data/Cars/testset/black/bc10.jpg\n",
      "The predicted class is: black\n",
      "Accumulated correct: 10\n",
      "data/Cars/testset/black/bc11.jpg\n",
      "The predicted class is: black\n",
      "Accumulated correct: 11\n",
      "data/Cars/testset/black/bc12.jpg\n",
      "The predicted class is: black\n",
      "Accumulated correct: 12\n",
      "data/Cars/testset/black/bc13.jpg\n",
      "The predicted class is: black\n",
      "Accumulated correct: 13\n",
      "data/Cars/testset/black/bc14.jpg\n",
      "The predicted class is: black\n",
      "Accumulated correct: 14\n",
      "data/Cars/testset/black/bc15.jpg\n",
      "The predicted class is: black\n",
      "Accumulated correct: 15\n",
      "data/Cars/testset/black/bc16.jpg\n",
      "The predicted class is: black\n",
      "Accumulated correct: 16\n",
      "data/Cars/testset/black/bc17.jpg\n",
      "The predicted class is: black\n",
      "Accumulated correct: 17\n",
      "data/Cars/testset/black/bc18.jpg\n",
      "The predicted class is: black\n",
      "Accumulated correct: 18\n",
      "data/Cars/testset/black/bc19.jpg\n",
      "The predicted class is: black\n",
      "Accumulated correct: 19\n",
      "data/Cars/testset/black/bc20.jpg\n",
      "The predicted class is: black\n",
      "Accumulated correct: 20\n",
      "Accuracy of black class: 1.0\n",
      "data/Cars/testset/white/wc01.jpg\n",
      "The predicted class is: white\n",
      "Accumulated correct: 1\n",
      "data/Cars/testset/white/wc02.jpg\n",
      "The predicted class is: black\n",
      "Accumulated correct: 1\n",
      "data/Cars/testset/white/wc03.jpg\n",
      "The predicted class is: black\n",
      "Accumulated correct: 1\n",
      "data/Cars/testset/white/wc04.jpg\n",
      "The predicted class is: black\n",
      "Accumulated correct: 1\n",
      "data/Cars/testset/white/wc05.jpg\n",
      "The predicted class is: white\n",
      "Accumulated correct: 2\n",
      "data/Cars/testset/white/wc06.jpeg\n",
      "The predicted class is: black\n",
      "Accumulated correct: 2\n",
      "data/Cars/testset/white/wc07.jpg\n",
      "The predicted class is: white\n",
      "Accumulated correct: 3\n",
      "data/Cars/testset/white/wc08.jpg\n",
      "The predicted class is: black\n",
      "Accumulated correct: 3\n",
      "data/Cars/testset/white/wc09.jpeg\n",
      "The predicted class is: white\n",
      "Accumulated correct: 4\n",
      "data/Cars/testset/white/wc10.jpg\n",
      "The predicted class is: white\n",
      "Accumulated correct: 5\n",
      "data/Cars/testset/white/wc11.jpg\n",
      "The predicted class is: white\n",
      "Accumulated correct: 6\n",
      "data/Cars/testset/white/wc12.jpeg\n",
      "The predicted class is: black\n",
      "Accumulated correct: 6\n",
      "data/Cars/testset/white/wc13.jpg\n",
      "The predicted class is: black\n",
      "Accumulated correct: 6\n",
      "data/Cars/testset/white/wc14.jpeg\n",
      "The predicted class is: white\n",
      "Accumulated correct: 7\n",
      "data/Cars/testset/white/wc15.jpeg\n",
      "The predicted class is: black\n",
      "Accumulated correct: 7\n",
      "data/Cars/testset/white/wc16.jpg\n",
      "The predicted class is: white\n",
      "Accumulated correct: 8\n",
      "data/Cars/testset/white/wc17.jpg\n",
      "The predicted class is: black\n",
      "Accumulated correct: 8\n",
      "data/Cars/testset/white/wc18.jpg\n",
      "The predicted class is: white\n",
      "Accumulated correct: 9\n",
      "data/Cars/testset/white/wc19.jpg\n",
      "The predicted class is: black\n",
      "Accumulated correct: 9\n",
      "data/Cars/testset/white/wc20.jpg\n",
      "The predicted class is: black\n",
      "Accumulated correct: 9\n",
      "Accuracy of white class: 0.45\n"
     ]
    }
   ],
   "execution_count": 157
  },
  {
   "metadata": {
    "ExecuteTime": {
     "end_time": "2024-08-08T03:33:16.920654800Z",
     "start_time": "2024-08-08T03:33:16.908654Z"
    }
   },
   "cell_type": "code",
   "source": [],
   "id": "779fa76050221598",
   "outputs": [],
   "execution_count": 43
  },
  {
   "metadata": {
    "ExecuteTime": {
     "end_time": "2024-08-08T03:33:17.141712400Z",
     "start_time": "2024-08-08T03:33:17.129712500Z"
    }
   },
   "cell_type": "code",
   "outputs": [],
   "execution_count": 43,
   "source": [],
   "id": "e95a50d1d7d7c81c"
  },
  {
   "cell_type": "code",
   "execution_count": null,
   "outputs": [],
   "source": [],
   "metadata": {
    "collapsed": false
   },
   "id": "6d1106cd65db5f31"
  }
 ],
 "metadata": {
  "kernelspec": {
   "display_name": "Python 3",
   "language": "python",
   "name": "python3"
  },
  "language_info": {
   "codemirror_mode": {
    "name": "ipython",
    "version": 2
   },
   "file_extension": ".py",
   "mimetype": "text/x-python",
   "name": "python",
   "nbconvert_exporter": "python",
   "pygments_lexer": "ipython2",
   "version": "2.7.6"
  }
 },
 "nbformat": 4,
 "nbformat_minor": 5
}
