{
 "cells": [
  {
   "cell_type": "code",
   "id": "initial_id",
   "metadata": {
    "collapsed": true,
    "ExecuteTime": {
     "end_time": "2024-08-09T03:43:15.556941Z",
     "start_time": "2024-08-09T03:43:15.544746Z"
    }
   },
   "source": [
    "import torch\n",
    "import torch.nn as nn\n",
    "import torch.optim as optim\n",
    "from torch.utils.data import DataLoader\n",
    "from torchvision import datasets, transforms, models\n",
    "import os"
   ],
   "outputs": [],
   "execution_count": 75
  },
  {
   "metadata": {
    "ExecuteTime": {
     "end_time": "2024-08-09T03:43:16.046748800Z",
     "start_time": "2024-08-09T03:43:16.031492100Z"
    }
   },
   "cell_type": "code",
   "source": [
    "# Define data transformations for data augmentation and normalization\n",
    "data_transforms = {\n",
    "    'train': transforms.Compose([\n",
    "        transforms.RandomResizedCrop(224),\n",
    "        transforms.RandomVerticalFlip(),\n",
    "        transforms.RandomAffine(degrees=15, translate=(0.1, 0.1), scale=(0.9, 1.1)),\n",
    "        # transforms.RandomHorizontalFlip(),\n",
    "        transforms.RandomRotation(10),\n",
    "        transforms.RandomPerspective(distortion_scale=0.5, p=0.5),\n",
    "        transforms.ToTensor(),\n",
    "        transforms.Normalize([0.485, 0.456, 0.406], [0.229, 0.224, 0.225])\n",
    "    ]),\n",
    "    'val': transforms.Compose([\n",
    "        transforms.Resize(256),\n",
    "        transforms.CenterCrop(224),\n",
    "        transforms.ToTensor(),\n",
    "        transforms.Normalize([0.485, 0.456, 0.406], [0.229, 0.224, 0.225])\n",
    "    ]),\n",
    "}"
   ],
   "id": "eb18ebee3f899014",
   "outputs": [],
   "execution_count": 76
  },
  {
   "metadata": {
    "ExecuteTime": {
     "end_time": "2024-08-09T03:43:17.845916900Z",
     "start_time": "2024-08-09T03:43:17.827636200Z"
    }
   },
   "cell_type": "code",
   "source": [
    "data_dir = 'data/Cars'\n",
    "image_datasets = {x: datasets.ImageFolder(root=f\"{data_dir}/{x}\", transform=data_transforms[x])\n",
    "                  for x in ['train', 'val']}\n",
    "\n",
    "dataloaders = {x: DataLoader(image_datasets[x], batch_size=4, shuffle=True, num_workers=4)\n",
    "               for x in ['train', 'val']}\n",
    "\n",
    "dataset_sizes = {x: len(image_datasets[x]) for x in ['train', 'val']}\n",
    "class_names = image_datasets['train'].classes\n",
    "print(class_names)\n",
    "# Print some information about the datasets\n",
    "print(f\"Number of samples: {dataset_sizes}\")\n",
    "print(f\"Classes: {class_names}\")"
   ],
   "id": "70c0f368a18bcba8",
   "outputs": [
    {
     "name": "stdout",
     "output_type": "stream",
     "text": [
      "['black', 'white']\n",
      "Number of samples: {'train': 44, 'val': 11}\n",
      "Classes: ['black', 'white']\n"
     ]
    }
   ],
   "execution_count": 77
  },
  {
   "metadata": {
    "ExecuteTime": {
     "end_time": "2024-08-09T03:43:21.927326600Z",
     "start_time": "2024-08-09T03:43:21.753994900Z"
    }
   },
   "cell_type": "code",
   "source": [
    "model = models.resnet18(pretrained=True)\n",
    "num_ftrs = model.fc.in_features\n",
    "# model.fc = nn.Linear(num_ftrs, len(class_names))\n",
    "model.fc = nn.Linear(num_ftrs, 2)"
   ],
   "id": "8d3e0ee49f9ab7c4",
   "outputs": [],
   "execution_count": 78
  },
  {
   "metadata": {
    "ExecuteTime": {
     "end_time": "2024-08-09T03:43:41.588604700Z",
     "start_time": "2024-08-09T03:43:41.427538800Z"
    }
   },
   "cell_type": "code",
   "source": [
    "criterion = nn.CrossEntropyLoss()\n",
    "optimizer = optim.SGD(model.parameters(), lr=0.01, weight_decay=0.01)\n",
    "\n",
    "# Move the model to the GPU if available\n",
    "device = torch.device(\"cuda:0\" if torch.cuda.is_available() else \"cpu\")\n",
    "model = model.to(device)"
   ],
   "id": "5ba2be9105495178",
   "outputs": [],
   "execution_count": 79
  },
  {
   "metadata": {
    "ExecuteTime": {
     "end_time": "2024-08-09T03:45:31.055383200Z",
     "start_time": "2024-08-09T03:43:42.959551700Z"
    }
   },
   "cell_type": "code",
   "source": [
    "import copy\n",
    "\n",
    "\n",
    "def train_model(model, criterion, optimizer, num_epochs=15, patience=5):\n",
    "    model = model.to(device)\n",
    "    \n",
    "    best_model_wts = copy.deepcopy(model.state_dict())\n",
    "    best_loss = float('inf')\n",
    "    no_improve_epochs = 0\n",
    "    \n",
    "    for epoch in range(num_epochs):\n",
    "        print(f'Epoch {epoch}/{num_epochs - 1}')\n",
    "        print('-' * 10)\n",
    "\n",
    "        # Each epoch has a training and validation phase\n",
    "        for phase in ['train', 'val']:\n",
    "            if phase == 'train':\n",
    "                model.train()\n",
    "            else:\n",
    "                model.eval()\n",
    "\n",
    "            running_loss = 0.0\n",
    "            running_corrects = 0\n",
    "\n",
    "            # Iterate over data.\n",
    "            for inputs, labels in dataloaders[phase]:\n",
    "                inputs = inputs.to(device)\n",
    "                labels = labels.to(device)\n",
    "\n",
    "                optimizer.zero_grad()\n",
    "\n",
    "                with torch.set_grad_enabled(phase == 'train'):\n",
    "                    outputs = model(inputs)\n",
    "                    _, preds = torch.max(outputs, 1)\n",
    "                    loss = criterion(outputs, labels)\n",
    "\n",
    "                    if phase == 'train':\n",
    "                        loss.backward()\n",
    "                        optimizer.step()\n",
    "\n",
    "                running_loss += loss.item() * inputs.size(0)\n",
    "                running_corrects += torch.sum(preds == labels.data)\n",
    "\n",
    "            epoch_loss = running_loss / dataset_sizes[phase]\n",
    "            epoch_acc = running_corrects.double() / dataset_sizes[phase]\n",
    "\n",
    "            print(f'{phase} Loss: {epoch_loss:.4f} Acc: {epoch_acc:.4f}')\n",
    "\n",
    "            # Deep copy the model if best performance\n",
    "            if phase == 'val' and epoch_loss < best_loss:\n",
    "                best_loss = epoch_loss\n",
    "                best_model_wts = copy.deepcopy(model.state_dict())\n",
    "                no_improve_epochs = 0\n",
    "            elif phase == 'val':\n",
    "                no_improve_epochs += 1\n",
    "\n",
    "        # Early stopping\n",
    "        if no_improve_epochs >= patience:\n",
    "            print(f'Early stopping triggered after epoch {epoch}')\n",
    "            break\n",
    "\n",
    "    print('Best val Loss: {:4f}'.format(best_loss))\n",
    "\n",
    "    # load best model weights\n",
    "    model.load_state_dict(best_model_wts)\n",
    "    return model\n",
    "\n",
    "# Usage\n",
    "model = train_model(model, criterion, optimizer, num_epochs=30, patience=5)"
   ],
   "id": "50648dcdc38a0e6f",
   "outputs": [
    {
     "name": "stdout",
     "output_type": "stream",
     "text": [
      "Epoch 0/29\n",
      "----------\n",
      "train Loss: 0.7812 Acc: 0.6818\n",
      "val Loss: 0.8651 Acc: 0.3636\n",
      "Epoch 1/29\n",
      "----------\n",
      "train Loss: 0.9206 Acc: 0.5909\n",
      "val Loss: 1.0517 Acc: 0.6364\n",
      "Epoch 2/29\n",
      "----------\n",
      "train Loss: 1.0730 Acc: 0.6136\n",
      "val Loss: 0.4695 Acc: 0.7273\n",
      "Epoch 3/29\n",
      "----------\n",
      "train Loss: 0.5098 Acc: 0.7727\n",
      "val Loss: 0.3933 Acc: 0.8182\n",
      "Epoch 4/29\n",
      "----------\n",
      "train Loss: 0.5121 Acc: 0.8409\n",
      "val Loss: 0.1755 Acc: 0.9091\n",
      "Epoch 5/29\n",
      "----------\n",
      "train Loss: 0.4120 Acc: 0.8409\n",
      "val Loss: 0.2359 Acc: 0.8182\n",
      "Epoch 6/29\n",
      "----------\n",
      "train Loss: 0.6985 Acc: 0.8409\n",
      "val Loss: 0.2274 Acc: 0.9091\n",
      "Epoch 7/29\n",
      "----------\n",
      "train Loss: 0.7796 Acc: 0.7500\n",
      "val Loss: 2.7604 Acc: 0.3636\n",
      "Epoch 8/29\n",
      "----------\n",
      "train Loss: 0.2673 Acc: 0.8864\n",
      "val Loss: 0.2617 Acc: 0.8182\n",
      "Epoch 9/29\n",
      "----------\n",
      "train Loss: 0.7526 Acc: 0.7273\n",
      "val Loss: 0.0910 Acc: 1.0000\n",
      "Epoch 10/29\n",
      "----------\n",
      "train Loss: 0.3414 Acc: 0.8182\n",
      "val Loss: 0.0643 Acc: 1.0000\n",
      "Epoch 11/29\n",
      "----------\n",
      "train Loss: 0.5420 Acc: 0.8636\n",
      "val Loss: 0.6411 Acc: 0.6364\n",
      "Epoch 12/29\n",
      "----------\n",
      "train Loss: 0.3158 Acc: 0.8636\n",
      "val Loss: 0.0146 Acc: 1.0000\n",
      "Epoch 13/29\n",
      "----------\n",
      "train Loss: 0.1609 Acc: 0.9318\n",
      "val Loss: 0.1485 Acc: 0.9091\n",
      "Epoch 14/29\n",
      "----------\n",
      "train Loss: 0.0906 Acc: 0.9545\n",
      "val Loss: 0.0334 Acc: 1.0000\n",
      "Epoch 15/29\n",
      "----------\n",
      "train Loss: 0.4198 Acc: 0.8864\n",
      "val Loss: 0.3374 Acc: 0.7273\n",
      "Epoch 16/29\n",
      "----------\n",
      "train Loss: 0.4315 Acc: 0.8409\n",
      "val Loss: 0.4264 Acc: 0.8182\n",
      "Epoch 17/29\n",
      "----------\n",
      "train Loss: 0.2884 Acc: 0.8636\n",
      "val Loss: 0.1835 Acc: 0.9091\n",
      "Early stopping triggered after epoch 17\n",
      "Best val Loss: 0.014636\n"
     ]
    }
   ],
   "execution_count": 80
  },
  {
   "metadata": {
    "ExecuteTime": {
     "end_time": "2024-08-08T03:01:54.243465200Z",
     "start_time": "2024-08-08T03:00:25.752331600Z"
    }
   },
   "cell_type": "code",
   "source": [
    "device = torch.device(\"cuda:0\" if torch.cuda.is_available() else \"cpu\")\n",
    "model = train_model(model, criterion, optimizer, num_epochs=15)"
   ],
   "id": "699de048470b5f0f",
   "outputs": [
    {
     "name": "stdout",
     "output_type": "stream",
     "text": [
      "Epoch 0/14\n",
      "----------\n",
      "train Loss: 0.3235 Acc: 0.8955\n",
      "val Loss: 0.0125 Acc: 1.0000\n",
      "Epoch 1/14\n",
      "----------\n",
      "train Loss: 0.6313 Acc: 0.8358\n",
      "val Loss: 0.0048 Acc: 1.0000\n",
      "Epoch 2/14\n",
      "----------\n",
      "train Loss: 0.3315 Acc: 0.8955\n",
      "val Loss: 0.1972 Acc: 0.8889\n",
      "Epoch 3/14\n",
      "----------\n",
      "train Loss: 0.3097 Acc: 0.8657\n",
      "val Loss: 0.2471 Acc: 0.8889\n",
      "Epoch 4/14\n",
      "----------\n",
      "train Loss: 0.2137 Acc: 0.9403\n",
      "val Loss: 0.0716 Acc: 1.0000\n",
      "Epoch 5/14\n",
      "----------\n",
      "train Loss: 0.0924 Acc: 0.9701\n",
      "val Loss: 0.0186 Acc: 1.0000\n",
      "Epoch 6/14\n",
      "----------\n",
      "train Loss: 0.0536 Acc: 1.0000\n",
      "val Loss: 0.0293 Acc: 1.0000\n",
      "Epoch 7/14\n",
      "----------\n",
      "train Loss: 0.8900 Acc: 0.7612\n",
      "val Loss: 0.1600 Acc: 0.8889\n",
      "Epoch 8/14\n",
      "----------\n",
      "train Loss: 0.7596 Acc: 0.7910\n",
      "val Loss: 0.0439 Acc: 1.0000\n",
      "Epoch 9/14\n",
      "----------\n",
      "train Loss: 0.3135 Acc: 0.9254\n",
      "val Loss: 0.0651 Acc: 1.0000\n",
      "Epoch 10/14\n",
      "----------\n",
      "train Loss: 0.1176 Acc: 0.9403\n",
      "val Loss: 0.0589 Acc: 1.0000\n",
      "Epoch 11/14\n",
      "----------\n",
      "train Loss: 0.1321 Acc: 0.9552\n",
      "val Loss: 0.0140 Acc: 1.0000\n",
      "Epoch 12/14\n",
      "----------\n",
      "train Loss: 0.1008 Acc: 0.9403\n",
      "val Loss: 0.0736 Acc: 1.0000\n",
      "Epoch 13/14\n",
      "----------\n",
      "train Loss: 0.5531 Acc: 0.8209\n",
      "val Loss: 2.3106 Acc: 0.4444\n",
      "Epoch 14/14\n",
      "----------\n",
      "train Loss: 0.3754 Acc: 0.8507\n",
      "val Loss: 0.1596 Acc: 0.8889\n"
     ]
    }
   ],
   "execution_count": 11
  },
  {
   "metadata": {
    "ExecuteTime": {
     "end_time": "2024-08-09T03:49:58.249485300Z",
     "start_time": "2024-08-09T03:49:58.181182600Z"
    }
   },
   "cell_type": "code",
   "source": [
    "torch.save(model.state_dict(), 'car_classifier03.pth')"
   ],
   "id": "b47a17dc8f7eac07",
   "outputs": [],
   "execution_count": 81
  },
  {
   "metadata": {
    "ExecuteTime": {
     "end_time": "2024-08-09T03:50:24.026507700Z",
     "start_time": "2024-08-09T03:50:23.851495600Z"
    }
   },
   "cell_type": "code",
   "source": [
    "#test the model with unseen images\n",
    "model = models.resnet18(pretrained=False)\n",
    "num_ftrs = model.fc.in_features\n",
    "model.fc = nn.Linear(num_ftrs, len(class_names))\n",
    "model.load_state_dict(torch.load('car_classifier03.pth', weights_only=False))\n",
    "model.eval()\n",
    "model = model.to(device)"
   ],
   "id": "7899b9ee0640ca90",
   "outputs": [],
   "execution_count": 82
  },
  {
   "metadata": {
    "ExecuteTime": {
     "end_time": "2024-08-09T03:50:25.512257Z",
     "start_time": "2024-08-09T03:50:25.500067200Z"
    }
   },
   "cell_type": "code",
   "source": [
    "transform = transforms.Compose([\n",
    "    transforms.Resize((224, 224)),\n",
    "    transforms.ToTensor(),\n",
    "    transforms.Normalize([0.485, 0.456, 0.406], [0.229, 0.224, 0.225])\n",
    "])"
   ],
   "id": "b1211093cfd32c86",
   "outputs": [],
   "execution_count": 83
  },
  {
   "metadata": {
    "ExecuteTime": {
     "end_time": "2024-08-09T03:50:26.231141100Z",
     "start_time": "2024-08-09T03:50:26.223996600Z"
    }
   },
   "cell_type": "code",
   "source": [
    "from PIL import Image\n",
    "\n",
    "def process_image(image_path):\n",
    "    image = Image.open(image_path)\n",
    "    image = transform(image).unsqueeze(0)  # Add batch dimension\n",
    "    return image.to(device)"
   ],
   "id": "e5b6d003ff574c90",
   "outputs": [],
   "execution_count": 84
  },
  {
   "metadata": {
    "ExecuteTime": {
     "end_time": "2024-08-09T03:50:27.261449800Z",
     "start_time": "2024-08-09T03:50:27.254293900Z"
    }
   },
   "cell_type": "code",
   "source": [
    "def predict(image_path):\n",
    "    image = process_image(image_path)\n",
    "    with torch.no_grad():\n",
    "        outputs = model(image)\n",
    "        _, predicted = torch.max(outputs, 1)\n",
    "    return class_names[predicted.item()]"
   ],
   "id": "a634b7f705505c14",
   "outputs": [],
   "execution_count": 85
  },
  {
   "cell_type": "code",
   "execution_count": 85,
   "outputs": [],
   "source": [],
   "metadata": {
    "collapsed": false,
    "ExecuteTime": {
     "end_time": "2024-08-09T03:50:27.708079500Z",
     "start_time": "2024-08-09T03:50:27.702970200Z"
    }
   },
   "id": "c11cb7bd9c569c2d"
  },
  {
   "cell_type": "code",
   "execution_count": null,
   "outputs": [],
   "source": [],
   "metadata": {
    "collapsed": false
   },
   "id": "b711069c9874e684"
  },
  {
   "metadata": {
    "ExecuteTime": {
     "end_time": "2024-08-09T03:52:14.916241900Z",
     "start_time": "2024-08-09T03:52:14.661393400Z"
    }
   },
   "cell_type": "code",
   "source": [
    "image_path = 'data/Cars/test/0000353_02500_d_000019327.jpg'\n",
    "prediction = predict(image_path)\n",
    "print(f'The predicted class is: {prediction}')"
   ],
   "id": "dd6f0628d71f2374",
   "outputs": [
    {
     "name": "stdout",
     "output_type": "stream",
     "text": [
      "The predicted class is: black\n"
     ]
    }
   ],
   "execution_count": 97
  },
  {
   "metadata": {
    "ExecuteTime": {
     "end_time": "2024-08-08T03:33:16.920654800Z",
     "start_time": "2024-08-08T03:33:16.908654Z"
    }
   },
   "cell_type": "code",
   "source": [],
   "id": "779fa76050221598",
   "outputs": [],
   "execution_count": 43
  },
  {
   "metadata": {
    "ExecuteTime": {
     "end_time": "2024-08-08T03:33:17.141712400Z",
     "start_time": "2024-08-08T03:33:17.129712500Z"
    }
   },
   "cell_type": "code",
   "outputs": [],
   "execution_count": 43,
   "source": [],
   "id": "e95a50d1d7d7c81c"
  },
  {
   "cell_type": "code",
   "execution_count": null,
   "outputs": [],
   "source": [],
   "metadata": {
    "collapsed": false
   },
   "id": "6d1106cd65db5f31"
  }
 ],
 "metadata": {
  "kernelspec": {
   "display_name": "Python 3",
   "language": "python",
   "name": "python3"
  },
  "language_info": {
   "codemirror_mode": {
    "name": "ipython",
    "version": 2
   },
   "file_extension": ".py",
   "mimetype": "text/x-python",
   "name": "python",
   "nbconvert_exporter": "python",
   "pygments_lexer": "ipython2",
   "version": "2.7.6"
  }
 },
 "nbformat": 4,
 "nbformat_minor": 5
}
